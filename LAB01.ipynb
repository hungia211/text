{
 "cells": [
  {
   "attachments": {},
   "cell_type": "markdown",
   "metadata": {},
   "source": [
    "độ chính xác: 96%\n"
   ]
  },
  {
   "cell_type": "code",
   "execution_count": 35,
   "metadata": {},
   "outputs": [
    {
     "name": "stdout",
     "output_type": "stream",
     "text": [
      "độ chính xác: 96%\n"
     ]
    }
   ],
   "source": [
    "dochinhxac = 0.96\n",
    "print(\"độ chính xác: {}%\".format(int(dochinhxac*100)))"
   ]
  },
  {
   "cell_type": "code",
   "execution_count": 36,
   "metadata": {},
   "outputs": [
    {
     "name": "stdout",
     "output_type": "stream",
     "text": [
      "Tuấn @ Nghĩa\n"
     ]
    }
   ],
   "source": [
    "tun = \"Tuấn\"\n",
    "ngia = \"Nghĩa\"\n",
    "print(tun,ngia,sep=\" @ \")"
   ]
  },
  {
   "cell_type": "code",
   "execution_count": 37,
   "metadata": {},
   "outputs": [
    {
     "name": "stdout",
     "output_type": "stream",
     "text": [
      "Tuấn đẹp trai hơn Minh và bằng Nghĩa\n"
     ]
    }
   ],
   "source": [
    "#Tuấn đẹp trai hơn Minh và bằng Nghĩa\n",
    "tun = \"Tuấn\"\n",
    "ngia = \"Nghĩa\"\n",
    "min = \"Minh\"\n",
    "print(\"{} đẹp trai hơn {} và bằng {}\".format(tun,min,ngia))"
   ]
  },
  {
   "cell_type": "code",
   "execution_count": 38,
   "metadata": {},
   "outputs": [
    {
     "name": "stdout",
     "output_type": "stream",
     "text": [
      "Chu Vi của tam giác:  120\n",
      "Diện Tích của tam giác:  3245.550800711645\n"
     ]
    }
   ],
   "source": [
    "#Bài tập 1:\n",
    "# Nhập 3 cạch của tam giác\n",
    "# In ra Chu Vi diện tích của tam giác \n",
    "# OUTPUT: Chu vi: xx (cm), Dien tich: yy (cm^2)\n",
    "#(Nhập bằng dm)\n",
    "canh1 = 3\n",
    "canh2 = 4\n",
    "canh3 = 5\n",
    "import math\n",
    "p = (canh1+canh2+canh3)/2*10\n",
    "print(\"Chu Vi của tam giác: \", (canh1+canh2+canh3)*10)\n",
    "print(\"Diện Tích của tam giác: \", math.sqrt(p*(p-canh1)*(p-canh2)*(p-canh3)))"
   ]
  },
  {
   "cell_type": "code",
   "execution_count": 10,
   "metadata": {},
   "outputs": [
    {
     "name": "stdout",
     "output_type": "stream",
     "text": [
      "Mon, Tue, Web, Thu, Fri là ngày đi làm, Sat là ngày đi học, Sun là ngày nghỉ\n",
      "Mon, Tue, Web, Thu, Fri là ngày đi làm, Sat là ngày đi học, Sun là ngày nghỉ\n",
      "Mon, Tue, Web, Thu, Fri là ngày đi làm, Sat là ngày đi học, Sun là ngày nghỉ\n",
      "Mon, Tue, Web, Thu, Fri là ngày đi làm, Sat là ngày đi học, Sun là ngày nghỉ \n",
      "Mon, Tue, Web, Thu, Fri là ngày đi làm, Sat là ngày đi học, Sun là ngày nghỉ \n"
     ]
    }
   ],
   "source": [
    "#Bài tập 2:\n",
    "thu2 = \"Mon\"\n",
    "thu3 = \"Tue\"\n",
    "thu4 = \"Web\"\n",
    "thu5 = \"Thu\"\n",
    "thu6 = \"Fri\"\n",
    "thu7 = \"Sat\"\n",
    "thu8 = \"Sun\"\n",
    "# \"Mon ○, Tue, Web, Thu, Fri la ngay đi làm. Sat là ngày đi học, Sun là ngày nghỉ.\"\n",
    "# bằng 5 cách\n",
    "print(\"{}, {}, {}, {}, {} là ngày đi làm, {} là ngày đi học, {} là ngày nghỉ\".format(thu2, thu3, thu4, thu5, thu6, thu7, thu8, thu8))\n",
    "print(thu2, thu3, thu4, thu5, thu6 + \" là ngày đi làm\", thu7 +\" là ngày đi học\",thu8+\" là ngày nghỉ\",sep=\", \")\n",
    "print(thu2+\", \"+ thu3+\", \"+ thu4+\", \"+thu5+\", \"+thu6+\" là ngày đi làm, \"+thu7+\" là ngày đi học, \"+thu8+\" là ngày nghỉ\")\n",
    "print(f\"{thu2}, {thu3}, {thu4}, {thu5}, {thu6} là ngày đi làm, {thu7} là ngày đi học, {thu8} là ngày nghỉ \")\n",
    "print(\"%s, %s, %s, %s, %s là ngày đi làm, %s là ngày đi học, %s là ngày nghỉ \"%(thu2, thu3, thu4, thu5, thu6, thu7, thu8))"
   ]
  },
  {
   "cell_type": "code",
   "execution_count": 52,
   "metadata": {},
   "outputs": [
    {
     "name": "stdout",
     "output_type": "stream",
     "text": [
      "<class 'int'>\n",
      "<class 'float'>\n",
      "<class 'str'>\n",
      "<class 'float'>\n",
      "<class 'complex'>\n",
      "<class 'list'>\n",
      "<class 'tuple'>\n",
      "<class 'set'>\n"
     ]
    }
   ],
   "source": [
    "#1. Kiểu số\n",
    "\n",
    "#1.1 Số nguyên\n",
    "x = 1\n",
    "print(type(x))\n",
    "\n",
    "#1.2 Số thực\n",
    "y = 11.5\n",
    "print(type(y))\n",
    "\n",
    "z = \"Nghia\"\n",
    "print(type(z))\n",
    "\n",
    "print(type(y+x))\n",
    "\n",
    "#1.3 Số Phức\n",
    "z1 = 1j\n",
    "z2 = 5 + 2j\n",
    "z3 = z1 + z2\n",
    "print(type(z3))\n",
    "\n",
    "\n",
    "#2. Kiểu dữ liệu tham chiếu\n",
    "#Bài tập 3. Phân biêt ba kiểu dữ liệu sau đây? Khi nào sử dụng 3 kiểu dữ liệu trên.\n",
    "list = [\"apple\", \"banana\", \"cherry\"]\n",
    "tuple = (\"apple\", \"banana\", \"cherry\")\n",
    "set = {\"apple\", \"banana\", \"cherry\"}\n",
    "\n",
    "print(type(list))\n",
    "print(type(tuple))\n",
    "print(type(set))"
   ]
  },
  {
   "cell_type": "code",
   "execution_count": 23,
   "metadata": {},
   "outputs": [
    {
     "name": "stdout",
     "output_type": "stream",
     "text": [
      "nghiệm x1 = 2.4384471871911697\n",
      "nghiệm x2 = 6.561552812808831\n"
     ]
    }
   ],
   "source": [
    "import math\n",
    "a = 1\n",
    "b = -9\n",
    "c = 16\n",
    "denta = b*b-4*a*c\n",
    "if(a==0):\n",
    "    if(b==0):\n",
    "        print(\"vô nghiệm\")\n",
    "    else:\n",
    "        print(\"một nghiệm x = {}\".format(-b/c))\n",
    "else:\n",
    "    if(denta==0):\n",
    "        print(\"nghiệm kép x = {}\".format(-b/(2*a)))\n",
    "    elif(denta<0):\n",
    "        print(\"vô nghiệm\")\n",
    "    else:\n",
    "        x1 = (-b-math.sqrt(denta))/(2*a)\n",
    "        x2 = (-b+math.sqrt(denta))/(2*a)\n",
    "        print(\"nghiệm x1 = {}\".format(x1))\n",
    "        print(\"nghiệm x2 = {}\".format(x2))\n",
    "\n"
   ]
  }
 ],
 "metadata": {
  "kernelspec": {
   "display_name": "Python 3",
   "language": "python",
   "name": "python3"
  },
  "language_info": {
   "codemirror_mode": {
    "name": "ipython",
    "version": 3
   },
   "file_extension": ".py",
   "mimetype": "text/x-python",
   "name": "python",
   "nbconvert_exporter": "python",
   "pygments_lexer": "ipython3",
   "version": "3.10.6"
  },
  "orig_nbformat": 4
 },
 "nbformat": 4,
 "nbformat_minor": 2
}
